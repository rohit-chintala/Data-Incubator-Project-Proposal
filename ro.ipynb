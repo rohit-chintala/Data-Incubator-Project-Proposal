{
 "cells": [
  {
   "cell_type": "markdown",
   "metadata": {},
   "source": [
    "# Plot 1"
   ]
  },
  {
   "cell_type": "raw",
   "metadata": {
    "scrolled": true
   },
   "source": [
    "The client company provides a dataset that contains information about the customers they have and their activity. \n",
    "The goal of the project is to perform data analysis and draw actionable insights. The objectives can be broken down \n",
    "into three parts – \n",
    "Segment customers by spending behavior. \n",
    "Analyze how a particular customer’s behavior changes over time. \n",
    "Identify the customers who hold the most promise. \n",
    "\n",
    "The preliminary dataset I received from one of the client companies contains customer data and customer activity data. The customer data contains information such as age gender education level etc.And the customer activity data contains information about the various purchases. \n",
    "My first step in analyzing the data would be to use clustering to see if the customers could be segmented. \n",
    "The second step would be to use regression analysis to see what kind of relationships exist between the various customer characteristics and their activity. \n"
   ]
  }
 ],
 "metadata": {
  "kernelspec": {
   "display_name": "Python 3",
   "language": "python",
   "name": "python3"
  },
  "language_info": {
   "codemirror_mode": {
    "name": "ipython",
    "version": 3
   },
   "file_extension": ".py",
   "mimetype": "text/x-python",
   "name": "python",
   "nbconvert_exporter": "python",
   "pygments_lexer": "ipython3",
   "version": "3.6.3"
  }
 },
 "nbformat": 4,
 "nbformat_minor": 2
}
